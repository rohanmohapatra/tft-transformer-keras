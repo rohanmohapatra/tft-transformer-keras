{
  "cells": [
    {
      "cell_type": "markdown",
      "metadata": {
        "id": "2YlLCISkdgKr"
      },
      "source": [
        "# Temporal Fusion Transformer (TFT) - Keras implementation\n",
        "\n",
        "Paper: https://arxiv.org/pdf/1912.09363.pdf\n",
        "\n",
        "![](https://github.com/rohanmohapatra/tft-transformer-keras/blob/master/images/optimal_params.png?raw=True)\n",
        "---\n",
        "## [![GitHub](https://img.shields.io/badge/GitHub-000?style=flat&logo=github&link=https://github.com/tkostas/tft-transformer-keras)](https://github.com/tkostas/tft-transformer-keras) [![Open In Colab](https://colab.research.google.com/assets/colab-badge.svg)](https://colab.research.google.com/github/rohanmohapatra/tft-transformer-keras/blob/master/TFT_Transformer_Keras.ipynb)\n",
        "\n"
      ]
    },
    {
      "cell_type": "markdown",
      "metadata": {
        "id": "rCt2C0wIezUZ"
      },
      "source": [
        "## Download the Project to use Dependencies"
      ]
    },
    {
      "cell_type": "code",
      "execution_count": null,
      "metadata": {
        "id": "Afq1KC-Gdf0z"
      },
      "outputs": [],
      "source": [
        "! git clone https://github.com/rohanmohapatra/tft-transformer-keras.git\n",
        "%cd tft-transformer-keras"
      ]
    },
    {
      "cell_type": "markdown",
      "metadata": {
        "id": "fw1KaIP5gI9h"
      },
      "source": [
        "## Install Requirements"
      ]
    },
    {
      "cell_type": "code",
      "execution_count": null,
      "metadata": {
        "id": "BP9LCa_dgLT2"
      },
      "outputs": [],
      "source": [
        "!pip install -r requirements.txt"
      ]
    },
    {
      "cell_type": "markdown",
      "metadata": {
        "id": "glAjUqwrfD1v"
      },
      "source": [
        "## Import packages"
      ]
    },
    {
      "cell_type": "code",
      "execution_count": null,
      "metadata": {
        "id": "SRvKOnqedV9e"
      },
      "outputs": [],
      "source": [
        "from src.config import Config\n",
        "from src.datasets.managers import datasets_factory\n",
        "from src.eval import quick_evaluation\n",
        "from src.plots import plot_history, plot_examples\n",
        "from src.train_utils import build_model, save_weights_and_inference_model"
      ]
    },
    {
      "cell_type": "markdown",
      "metadata": {
        "id": "jLsNp0EZtyEs"
      },
      "source": [
        "## Auxilary Class Definitions"
      ]
    },
    {
      "cell_type": "code",
      "execution_count": null,
      "metadata": {
        "id": "CTgF_wHvuner"
      },
      "outputs": [],
      "source": [
        "class AttrDict(dict):\n",
        "    def __init__(self, *args, **kwargs):\n",
        "        super(AttrDict, self).__init__(*args, **kwargs)\n",
        "        self.__dict__ = self"
      ]
    },
    {
      "cell_type": "markdown",
      "metadata": {
        "id": "oxOofch2hZ9N"
      },
      "source": [
        "## Define Model Optimal Parameters for\n",
        "- Electricity\n",
        "- Traffic\n",
        "- Favorita"
      ]
    },
    {
      "cell_type": "markdown",
      "metadata": {
        "id": "tbbv2VRCh5II"
      },
      "source": [
        "#### Change the dataset to use the required optimal config\n",
        "\n",
        "\n",
        "|                       |Electricity|Traffic|Retail|Vol.  |\n",
        "|-----------------------|-----------|-------|------|------|\n",
        "|**Dataset Details**    |           |       |      |      |\n",
        "|Target Type            |R          |[0, 1] |R     |R     |\n",
        "|Number of Entities     |370        |440    |130k  |41    |\n",
        "|Number of Samples      |500k       |500k   |500k  |~100k |\n",
        "|**Network Parameters** |           |       |      |      |\n",
        "|k                      |168        |168    |90    |252   |\n",
        "|Tmar                   |24         |24     |30    |5     |\n",
        "|Dropout Rate           |0.1        |0.3    |0.1   |0.3   |\n",
        "|State Size             |160        |320    |240   |160   |\n",
        "|Number of Heads        |4          |4      |4     |1     |\n",
        "|**Training Parameters**|           |       |      |      |\n",
        "|Minibatch Size         |64         |128    |128   |64    |\n",
        "|Learning Rate          |0.001      |0.001  |0.001 |0.01  |\n",
        "|Max Gradient Norm      |0.01       |100    |100   |0.01  |"
      ]
    },
    {
      "cell_type": "code",
      "execution_count": null,
      "metadata": {
        "id": "48Mq1LqlgFXG"
      },
      "outputs": [],
      "source": [
        "config = {\n",
        "    'dataset': 'electricity',\n",
        "    'model_version': 1,\n",
        "    'log_dir': 'logs',\n",
        "    'optimizer': 'adamw',\n",
        "    'load_model_weights': None,\n",
        "    'sample_sz': 0,\n",
        "    'l2_reg': None,\n",
        "    'clip_value': None,\n",
        "    'masked_value': None,\n",
        "    'n_samples_to_plot': 50,\n",
        "    'plot_attn_weights': False\n",
        "}"
      ]
    },
    {
      "cell_type": "code",
      "execution_count": null,
      "metadata": {
        "id": "7GmuqIHCh2zY"
      },
      "outputs": [],
      "source": [
        "optimal_params = {\n",
        "    'electricity': {\n",
        "        'n_enc_steps': 168, # timeseries length defined as n_enc_steps + n_dec_steps\n",
        "        'n_dec_steps': 24,\n",
        "        'd_model': 160,\n",
        "        'epochs': 50,\n",
        "        'batch_sz': 64,\n",
        "        'lr': 0.001,\n",
        "        'clip_norm': 0.01,\n",
        "        'dropout_rate': 0.1\n",
        "    },\n",
        "    'traffic': {\n",
        "        'n_enc_steps': 168, # timeseries length defined as n_enc_steps + n_dec_steps\n",
        "        'n_dec_steps': 24,\n",
        "        'd_model': 320,\n",
        "        'epochs': 100,\n",
        "        'batch_sz': 128,\n",
        "        'lr': 0.001,\n",
        "        'clip_norm': 100,\n",
        "        'dropout_rate': 0.3\n",
        "    },\n",
        "    'favorita': {\n",
        "        'n_enc_steps': 90, # timeseries length defined as n_enc_steps + n_dec_steps\n",
        "        'n_dec_steps': 30,\n",
        "        'd_model': 240,\n",
        "        'epochs': 50,\n",
        "        'batch_sz': 128,\n",
        "        'lr': 0.001,\n",
        "        'clip_norm': 0.01,\n",
        "        'dropout_rate': 0.1\n",
        "    }\n",
        "}"
      ]
    },
    {
      "cell_type": "code",
      "execution_count": null,
      "metadata": {
        "id": "jO0jIJ5Ulbym"
      },
      "outputs": [],
      "source": [
        "config.update(optimal_params[config['dataset']])"
      ]
    },
    {
      "cell_type": "markdown",
      "metadata": {
        "id": "hqZVS44cl_dB"
      },
      "source": [
        "## Setup"
      ]
    },
    {
      "cell_type": "code",
      "execution_count": null,
      "metadata": {
        "id": "t9qgHCe3l_HV"
      },
      "outputs": [],
      "source": [
        "config = Config(AttrDict(config))"
      ]
    },
    {
      "cell_type": "code",
      "execution_count": null,
      "metadata": {
        "id": "ZFJ1LnOxlhkX"
      },
      "outputs": [],
      "source": [
        "dataset_name = config.dataset\n",
        "model_version = config.model_version\n",
        "dset = datasets_factory[dataset_name](ts_len=config.ts_len,\n",
        "                                      n_enc_steps=config.n_enc_steps,\n",
        "                                      sample_sz=config.sample_sz)"
      ]
    },
    {
      "cell_type": "markdown",
      "metadata": {
        "id": "6EMGsxjymGbB"
      },
      "source": [
        "## Train"
      ]
    },
    {
      "cell_type": "code",
      "execution_count": null,
      "metadata": {
        "colab": {
          "base_uri": "https://localhost:8080/"
        },
        "id": "ynKkgBqHmPf1",
        "outputId": "0b01e192-37a3-4036-8f49-4c307b670f3b"
      },
      "outputs": [],
      "source": [
        "(x_train, y_train), (x_val, y_val), (x_test, y_test) = dset.extract_xy_pairs(\n",
        "                                                            ts_len=config.ts_len,\n",
        "                                                            n_dec_steps=config.n_dec_steps)\n",
        "\n",
        "callbacks, model = build_model(config, dset, x_train)\n",
        "\n",
        "history = model.fit(x_train, y_train,\n",
        "                    batch_size=config.batch_sz,\n",
        "                    epochs=config.epochs,\n",
        "                    validation_data=(x_val, y_val),\n",
        "                    shuffle=True,\n",
        "                    callbacks=callbacks)\n",
        "\n",
        "plot_history(history, dataset_name, model_version)\n",
        "\n",
        "save_weights_and_inference_model(model, config=config)\n",
        "\n",
        "quick_evaluation(model,\n",
        "                  x_test, x_train,\n",
        "                  x_val, y_test,\n",
        "                  y_train, y_val,\n",
        "                  config)\n",
        "\n",
        "plot_examples(model, x_train, y_train,\n",
        "              quantiles=config.quantiles,\n",
        "              dataset_name=dataset_name,\n",
        "              tag='train',\n",
        "              plot_n_samples=config.n_samples_to_plot,\n",
        "              plot_attn_weights=config.plot_attn_weights)\n",
        "plot_examples(model, x_val, y_val,\n",
        "              quantiles=config.quantiles,\n",
        "              dataset_name=dataset_name,\n",
        "              tag='val',\n",
        "              plot_n_samples=config.n_samples_to_plot,\n",
        "              plot_attn_weights=config.plot_attn_weights)\n",
        "plot_examples(model, x_test, y_test,\n",
        "              quantiles=config.quantiles,\n",
        "              dataset_name=dataset_name,\n",
        "              tag='test',\n",
        "              plot_n_samples=config.n_samples_to_plot,\n",
        "              plot_attn_weights=config.plot_attn_weights)"
      ]
    }
  ],
  "metadata": {
    "accelerator": "GPU",
    "colab": {
      "gpuType": "V100",
      "provenance": []
    },
    "kernelspec": {
      "display_name": "Python 3",
      "name": "python3"
    },
    "language_info": {
      "name": "python"
    }
  },
  "nbformat": 4,
  "nbformat_minor": 0
}
